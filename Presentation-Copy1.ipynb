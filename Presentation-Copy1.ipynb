{
 "cells": [
  {
   "cell_type": "markdown",
   "metadata": {},
   "source": [
    "### 도입 \n",
    "고령화 사회에 접어들었다. - 고령인구비율 증가, 노인수 증가.ong\n",
    "사회적 약자 - 어린이, “노인”\n",
    "### 아이는 줄고, 노인은 늘고 \n",
    "### 노인 보호 구역, 어린이 구역의 11.4 %\n",
    "### 노인 사고가 많은 곳은 어디?\n",
    "### 노인 보호 구역 사각지대\n",
    "- 자치구별 데이터 넣기    \n",
    "\n",
    "보호구역 / 노인수 -> 시각화 자료 넣기 \n",
    "### 노인 교통사고가 증가하고있어서 면밀히 분석해봤다 \n",
    "2015~2019 서울시 교통사고 건수 들어나는거 시각화.png (monthly_data.ipython에 있음 )\n",
    "### 노인 교통사고를 요일, 월,  시간대별로     자치구 사고건수 TOP5를 조사했다. \n",
    "월별   \n",
    "요일대별 ~~~     \n",
    "시간대별 ~~~     \n",
    " \n",
    "### 복지도 한 번 봤음\n",
    "복지시설 - 구    \n",
    "요양시설 - 구 \n",
    "### 결론\n",
    "~지역 늘려야 하고 \n",
    "노인에 관심을 갖자 ! (사회적 약자중 노인에 대해)\n"
   ]
  },
  {
   "cell_type": "markdown",
   "metadata": {},
   "source": [
    "## 실버존(silver zone)   \n",
    "노인보호구역이란 교통약자인 노인을 교통사고 위험에서 **보호**하기 위해 양로원, 경로당, 노인복지시설 등 노인들의 **통행량이 많은 구역**을 선정하여 **노인들의 안전한 통행**을 보장하고자 하는 지정된 **교통약자보호구역**으로 **실버존(Silver Zone)**이라고도 한다.   \n",
    "\n",
    "- 팀원\n",
    "    - 황수영\n",
    "    - 신선민\n",
    "    - 박범진\n",
    "    - 이정우\n"
   ]
  },
  {
   "cell_type": "markdown",
   "metadata": {},
   "source": [
    "# 서울이 과연 노인들이 살기 좋은 곳인가?"
   ]
  },
  {
   "cell_type": "markdown",
   "metadata": {},
   "source": [
    "<img src = './img/wordcloud.png'  width = '500' height = '500'>   "
   ]
  },
  {
   "cell_type": "markdown",
   "metadata": {},
   "source": [
    "- 총 인구수가 증가함에 따라 노인수도 늘고 있음을 볼 수 있으며 오른쪽 그래프를 보면 비율또한 증가함을 볼 수 있다. "
   ]
  },
  {
   "cell_type": "markdown",
   "metadata": {},
   "source": [
    "> 꺾은선 그래프로 고치기 (왼쪽그래프)"
   ]
  },
  {
   "cell_type": "markdown",
   "metadata": {},
   "source": [
    "<div style = \"float:left;\">\n",
    "    <img src = './data/total_increase.png'  width = '450' > \n",
    "</div>\n",
    "<div style = \"float:left;\">\n",
    "    <img src = './data/ratio_increase.png'  width = '450' >\n",
    "</div>"
   ]
  },
  {
   "cell_type": "code",
   "execution_count": null,
   "metadata": {},
   "outputs": [],
   "source": []
  },
  {
   "cell_type": "markdown",
   "metadata": {},
   "source": [
    "##  아이는 줄고, 노인은 늘고"
   ]
  },
  {
   "cell_type": "markdown",
   "metadata": {},
   "source": [
    "<img src='./img/child_old.png' width = '350'> "
   ]
  },
  {
   "cell_type": "markdown",
   "metadata": {},
   "source": [
    "## 노인 보호 구역, 어린이 구역의 11.4 %"
   ]
  },
  {
   "cell_type": "markdown",
   "metadata": {},
   "source": [
    "<img src = './img/difference_protection_facility_old_and_young.png'>"
   ]
  },
  {
   "cell_type": "code",
   "execution_count": null,
   "metadata": {},
   "outputs": [],
   "source": []
  }
 ],
 "metadata": {
  "kernelspec": {
   "display_name": "Python 3",
   "language": "python",
   "name": "python3"
  },
  "language_info": {
   "codemirror_mode": {
    "name": "ipython",
    "version": 3
   },
   "file_extension": ".py",
   "mimetype": "text/x-python",
   "name": "python",
   "nbconvert_exporter": "python",
   "pygments_lexer": "ipython3",
   "version": "3.6.5"
  }
 },
 "nbformat": 4,
 "nbformat_minor": 2
}
